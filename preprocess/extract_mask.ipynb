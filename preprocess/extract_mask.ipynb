{
 "cells": [
  {
   "cell_type": "markdown",
   "metadata": {},
   "source": [
    "# Copy Images for G-CPA"
   ]
  },
  {
   "cell_type": "markdown",
   "metadata": {},
   "source": [
    "## Copy Images"
   ]
  },
  {
   "cell_type": "code",
   "execution_count": 1,
   "metadata": {},
   "outputs": [],
   "source": [
    "from glob import glob\n",
    "from tqdm import tqdm\n",
    "\n",
    "import os\n",
    "import shutil\n",
    "import random"
   ]
  },
  {
   "cell_type": "code",
   "execution_count": 16,
   "metadata": {},
   "outputs": [],
   "source": [
    "DATA_DIR = \"/home/ubuntu/data\"\n",
    "OUT_DIR = f\"{DATA_DIR}/ood-cv-cls/occluded_bird\""
   ]
  },
  {
   "cell_type": "code",
   "execution_count": 17,
   "metadata": {},
   "outputs": [
    {
     "name": "stdout",
     "output_type": "stream",
     "text": [
      "143 15 116 5 7\n"
     ]
    }
   ],
   "source": [
    "OCCLUDED_CLS = {}\n",
    "with open(\"occluded_classes/all.txt\", \"r\") as f:\n",
    "    OCCLUDED_CLS[\"all\"] = set(f.read().splitlines())\n",
    "\n",
    "with open(\"occluded_classes/bird.txt\", \"r\") as f:\n",
    "    OCCLUDED_CLS[\"bird\"] = set(f.read().splitlines())\n",
    "\n",
    "with open(\"occluded_classes/dog.txt\", \"r\") as f:\n",
    "    OCCLUDED_CLS[\"dog\"] = set(f.read().splitlines())\n",
    "\n",
    "with open(\"occluded_classes/cat.txt\", \"r\") as f:\n",
    "    OCCLUDED_CLS[\"cat\"] = set(f.read().splitlines())\n",
    "\n",
    "with open(\"occluded_classes/others.txt\", \"r\") as f:\n",
    "    OCCLUDED_CLS[\"others\"] = set(f.read().splitlines())\n",
    "\n",
    "print(\n",
    "    len(OCCLUDED_CLS[\"all\"]),\n",
    "    len(OCCLUDED_CLS[\"bird\"]),\n",
    "    len(OCCLUDED_CLS[\"dog\"]),\n",
    "    len(OCCLUDED_CLS[\"cat\"]),\n",
    "    len(OCCLUDED_CLS[\"others\"]),\n",
    ")"
   ]
  },
  {
   "cell_type": "code",
   "execution_count": 18,
   "metadata": {},
   "outputs": [
    {
     "name": "stderr",
     "output_type": "stream",
     "text": [
      "100%|██████████| 1000/1000 [00:00<00:00, 15571.83it/s]\n"
     ]
    },
    {
     "data": {
      "text/plain": [
       "6750"
      ]
     },
     "execution_count": 18,
     "metadata": {},
     "output_type": "execute_result"
    }
   ],
   "source": [
    "NUM_SAMPLE = {\"bird\": 450, \"dog\": 60}\n",
    "img_paths = []\n",
    "for img_dir in tqdm(glob(f\"{DATA_DIR}/imagenet/ILSVRC/Data/CLS-LOC/train/*\")):\n",
    "    cls = img_dir.split(\"/\")[-1]\n",
    "    if cls in OCCLUDED_CLS[\"all\"]:\n",
    "        img_paths_sub = glob(f\"{img_dir}/*\")\n",
    "\n",
    "        if cls in OCCLUDED_CLS[\"bird\"]:\n",
    "            img_paths_sub = random.sample(img_paths_sub, NUM_SAMPLE[\"bird\"])\n",
    "        elif cls in OCCLUDED_CLS[\"dog\"]:\n",
    "            img_paths_sub = random.sample(img_paths_sub, NUM_SAMPLE[\"dog\"])\n",
    "        elif cls in OCCLUDED_CLS[\"cat\"] or cls in OCCLUDED_CLS[\"others\"]:\n",
    "            pass\n",
    "        \n",
    "        img_paths.extend(img_paths_sub)\n",
    "\n",
    "len(img_paths)"
   ]
  },
  {
   "cell_type": "code",
   "execution_count": 19,
   "metadata": {},
   "outputs": [
    {
     "name": "stderr",
     "output_type": "stream",
     "text": [
      "100%|██████████| 6750/6750 [00:07<00:00, 868.26it/s] \n"
     ]
    }
   ],
   "source": [
    "if os.path.isdir(OUT_DIR):\n",
    "    shutil.rmtree(OUT_DIR)\n",
    "for cls in OCCLUDED_CLS[\"all\"]:\n",
    "    os.makedirs(f\"{OUT_DIR}/{cls}\")\n",
    "\n",
    "for img_path in tqdm(img_paths):\n",
    "    cls = img_path.split(\"/\")[-2]\n",
    "    fname = os.path.basename(img_path)\n",
    "    target_path = f\"{OUT_DIR}/{cls}/{fname}\"\n",
    "    shutil.copyfile(img_path, target_path)"
   ]
  },
  {
   "cell_type": "markdown",
   "metadata": {},
   "source": [
    "## Confirm Sample Images"
   ]
  },
  {
   "cell_type": "code",
   "execution_count": 2,
   "metadata": {},
   "outputs": [],
   "source": [
    "import numpy as np\n",
    "import cv2\n",
    "\n",
    "def get_mixed_img(img_path, mask_path):\n",
    "    img = cv2.imread(img_path)\n",
    "    mask = np.load(mask_path)\n",
    "    mask = list(mask.values())[0]\n",
    "    occ_obj = img * mask\n",
    "    cv2.imwrite(f'imgs_cam/{fname}_cam.jpg', occ_obj)\n",
    "\n",
    "    gray_img = cv2.cvtColor(occ_obj.astype(np.uint8), cv2.COLOR_BGR2GRAY)\n",
    "    contours, _ = cv2.findContours(gray_img, cv2.RETR_TREE, cv2.CHAIN_APPROX_TC89_KCOS)\n",
    "    x, y, w, h = cv2.boundingRect(contours[0])\n",
    "    rect = occ_obj[y:y+h, x:x+w]\n",
    "    cv2.imwrite(f'imgs_cam/{fname}_rect.jpg', rect)\n",
    "\n",
    "    new_img = cv2.imread(\"imgs/n02112018_138.JPEG\")\n",
    "    if new_img.shape[0] > new_img.shape[1]:\n",
    "        x, w = new_img.shape[1] // 4, new_img.shape[1] // 2\n",
    "        y, h = new_img.shape[0] // 4, new_img.shape[0] // 2\n",
    "    else:\n",
    "        x, w = new_img.shape[1] // 4, new_img.shape[1] // 2\n",
    "        y, h = new_img.shape[0] // 4, new_img.shape[0] // 2\n",
    "\n",
    "    rect_resized = cv2.resize(rect, (w, h))\n",
    "    for r_idx, rows in enumerate(new_img[y:y+h, x:x+w, :]):\n",
    "        for c_idx, cols in enumerate(rows):\n",
    "            for d_idx, d in enumerate(cols):\n",
    "                if rect_resized[r_idx, c_idx, d_idx] == 0:\n",
    "                    rect_resized[r_idx, c_idx, d_idx] = new_img[y+r_idx, x+c_idx, d_idx]\n",
    "\n",
    "    new_img[y:y+h, x:x+w, :] = rect_resized\n",
    "    cv2.imwrite(f'imgs_cam/{fname}_mixed.jpg', new_img)"
   ]
  },
  {
   "cell_type": "code",
   "execution_count": 5,
   "metadata": {},
   "outputs": [
    {
     "name": "stderr",
     "output_type": "stream",
     "text": [
      "  0%|          | 0/1980 [00:00<?, ?it/s]"
     ]
    },
    {
     "name": "stdout",
     "output_type": "stream",
     "text": [
      "/home/ubuntu/data/ood-cv-cls/occluded/n02101006/n02101006_764.JPEG\n",
      "/home/ubuntu/data/ood-cv-cls/occluded/n02101006/n02101006_764.npz\n"
     ]
    },
    {
     "name": "stderr",
     "output_type": "stream",
     "text": [
      "\n"
     ]
    }
   ],
   "source": [
    "DATA_DIR = \"/home/ubuntu/data/ood-cv-cls/occluded\"\n",
    "mask_paths = glob(f\"{DATA_DIR}/**/*.npz\")\n",
    "for mask_path in tqdm(mask_paths):\n",
    "    cls = os.path.dirname(mask_path).split(\"/\")[-1]\n",
    "    fname = os.path.basename(mask_path).replace(\".npz\", \"\")\n",
    "    img_path = f\"{DATA_DIR}/{cls}/{fname}.JPEG\"\n",
    "    print(img_path)\n",
    "    print(mask_path)\n",
    "    break\n",
    "    get_mixed_img(img_path, mask_path)"
   ]
  },
  {
   "cell_type": "code",
   "execution_count": 3,
   "metadata": {},
   "outputs": [
    {
     "name": "stderr",
     "output_type": "stream",
     "text": [
      "100%|██████████| 3/3 [00:01<00:00,  2.29it/s]\n"
     ]
    }
   ],
   "source": [
    "DATA_DIR = \"/home/ubuntu/data/ood-cv-cls/occluded\"\n",
    "mask_paths = glob(f\"{DATA_DIR}/**/*.npz\")\n",
    "for mask_path in tqdm(mask_paths):\n",
    "    cls = os.path.dirname(mask_path).split(\"/\")[-1]\n",
    "    fname = os.path.basename(mask_path).replace(\".npz\", \"\")\n",
    "    img_path = f\"{DATA_DIR}/{cls}/{fname}.JPEG\"\n",
    "    get_mixed_img(img_path, mask_path)"
   ]
  }
 ],
 "metadata": {
  "kernelspec": {
   "display_name": "Python 3.8.13 ('ood-cv-cls')",
   "language": "python",
   "name": "python3"
  },
  "language_info": {
   "codemirror_mode": {
    "name": "ipython",
    "version": 3
   },
   "file_extension": ".py",
   "mimetype": "text/x-python",
   "name": "python",
   "nbconvert_exporter": "python",
   "pygments_lexer": "ipython3",
   "version": "3.8.13"
  },
  "orig_nbformat": 4,
  "vscode": {
   "interpreter": {
    "hash": "1d0a8e2e6e6fda5333eb39ac969013db2f9a7f50fc6cb25bc5a1cd735cf4acda"
   }
  }
 },
 "nbformat": 4,
 "nbformat_minor": 2
}
